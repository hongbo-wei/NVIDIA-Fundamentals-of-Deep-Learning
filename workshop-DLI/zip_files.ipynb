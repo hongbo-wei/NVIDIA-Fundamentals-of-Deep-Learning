{
 "cells": [
  {
   "cell_type": "code",
   "execution_count": 1,
   "id": "6bbf74b7-926d-4199-835d-6b7730ff0723",
   "metadata": {},
   "outputs": [
    {
     "name": "stdout",
     "output_type": "stream",
     "text": [
      "tar: Cowardly refusing to create an empty archive\n",
      "Try 'tar --help' or 'tar --usage' for more information.\n"
     ]
    }
   ],
   "source": [
    "!tar -zcvf fdl.tar.gz"
   ]
  },
  {
   "cell_type": "code",
   "execution_count": null,
   "id": "10474a8b-c7f1-40a9-8b9f-f5f70a2141a8",
   "metadata": {},
   "outputs": [],
   "source": [
    "import os\n",
    "import zipfile\n",
    "\n",
    "def zipdir(path, ziph):\n",
    "    # Zip all files in the directory recursively\n",
    "    for root, dirs, files in os.walk(path):\n",
    "        for file in files:\n",
    "            ziph.write(os.path.join(root, file),\n",
    "                       os.path.relpath(os.path.join(root, file),\n",
    "                       os.path.join(path, '..')))\n",
    "\n",
    "# Create a zip file\n",
    "zipf = zipfile.ZipFile('all_files.zip', 'w', zipfile.ZIP_DEFLATED)\n",
    "zipdir('.', zipf)  # Use '.' for current directory or specify any path\n",
    "zipf.close()\n",
    "\n",
    "print(\"All files are zipped successfully.\")"
   ]
  }
 ],
 "metadata": {
  "kernelspec": {
   "display_name": "Python 3 (ipykernel)",
   "language": "python",
   "name": "python3"
  },
  "language_info": {
   "codemirror_mode": {
    "name": "ipython",
    "version": 3
   },
   "file_extension": ".py",
   "mimetype": "text/x-python",
   "name": "python",
   "nbconvert_exporter": "python",
   "pygments_lexer": "ipython3",
   "version": "3.10.12"
  }
 },
 "nbformat": 4,
 "nbformat_minor": 5
}
